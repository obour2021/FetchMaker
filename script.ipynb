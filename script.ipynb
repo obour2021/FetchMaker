{
 "cells": [
  {
   "cell_type": "code",
   "execution_count": null,
   "metadata": {},
   "outputs": [],
   "source": [
    "import numpy as np\n",
    "import fetchmaker\n",
    "from scipy.stats import binom_test\n",
    "from scipy.stats import f_oneway\n",
    "from scipy.stats import chi2_contingency"
   ]
  },
  {
   "cell_type": "code",
   "execution_count": null,
   "metadata": {},
   "outputs": [],
   "source": [
    "rottweiler_tl = fetchmaker.get_tail_length(\"rottweiler\")\n",
    "rottweiler_tl_mean = np.mean(rottweiler_tl)\n",
    "rottweiler_tl_std = np.std(rottweiler_tl)\n",
    "from statsmodels.stats.multicomp import pairwise_tukeyhsd\n",
    "print(\"the mean of the rottweiler_tl is \" + str(rottweiler_tl_mean))\n",
    "print(\"the standard deviation of the rottweiler_tl is \" + str(rottweiler_tl_std))"
   ]
  },
  {
   "cell_type": "code",
   "execution_count": null,
   "metadata": {},
   "outputs": [],
   "source": [
    "whippet_rescue = fetchmaker.get_is_rescue(\"whippet\")\n",
    "num_whippet_rescues = np.count_nonzero(whippet_rescue)\n",
    "print(num_whippet_rescues)\n",
    "num_whippets = np.size(whippet_rescue)\n",
    "print(num_whippets)\n",
    "pval = binom_test(num_whippet_rescues, n=num_whippets, p=0.08)\n",
    "print(pval)"
   ]
  },
  {
   "cell_type": "code",
   "execution_count": null,
   "metadata": {},
   "outputs": [],
   "source": [
    "whippets = fetchmaker.get_weight(\"whippet\")\n",
    "terriers = fetchmaker.get_weight(\"terrier\")\n",
    "pitbulls = fetchmaker.get_weight(\"pitbull\")\n",
    "tstats, pval2 = f_oneway(whippets, terriers, pitbulls)\n",
    "print(pval2)\n",
    "v = np.concatenate([whippets, terriers, pitbulls])\n",
    "labels = ['whippet'] * len(whippets) + ['terrier'] * len(terriers) + ['pitbull'] * len(pitbulls)\n",
    "tukey_results = pairwise_tukeyhsd(v, labels, 0.05)\n",
    "print(tukey_results)\n",
    "poodle_colors = fetchmaker.get_color(\"poodle\")\n",
    "shihtzu_colors = fetchmaker.get_color(\"shihtzu\")\n"
   ]
  },
  {
   "cell_type": "code",
   "execution_count": null,
   "metadata": {},
   "outputs": [],
   "source": [
    "color_table = [[np.count_nonzero(poodle_colors == \"black\"), np.count_nonzero(shihtzu_colors == \"black\")],\n",
    "[np.count_nonzero(poodle_colors == \"brown\"), np.count_nonzero(shihtzu_colors == \"brown\")],\n",
    "[np.count_nonzero(poodle_colors == \"gold\"), np.count_nonzero(shihtzu_colors == \"gold\")],\n",
    "[np.count_nonzero(poodle_colors == \"grey\"), np.count_nonzero(shihtzu_colors == \"grey\")],\n",
    "[np.count_nonzero(poodle_colors == \"white\"), np.count_nonzero(shihtzu_colors == \"white\")]]\n",
    "print(color_table)\n",
    "chi2, color_pval, dof, expected = chi2_contingency(color_table)\n",
    "print(color_pval)"
   ]
  }
 ],
 "metadata": {
  "kernelspec": {
   "display_name": "Python 3",
   "language": "python",
   "name": "python3"
  },
  "language_info": {
   "codemirror_mode": {
    "name": "ipython",
    "version": 3
   },
   "file_extension": ".py",
   "mimetype": "text/x-python",
   "name": "python",
   "nbconvert_exporter": "python",
   "pygments_lexer": "ipython3",
   "version": "3.7.3"
  }
 },
 "nbformat": 4,
 "nbformat_minor": 2
}
